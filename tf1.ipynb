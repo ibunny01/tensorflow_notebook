{
 "cells": [
  {
   "cell_type": "markdown",
   "metadata": {},
   "source": [
    "# 1. Tensorflow基本概念\n",
    "\n",
    "* 使用图（graphs）来表示计算任务\n",
    "* 在被称之为会话（Session）的上下文（context）中执行图\n",
    "* 使用tensor表示数据\n",
    "* 通过变量（Variable）维护状态\n",
    "* 使用feed和fetch可以为任意的操作赋值或者从其中获取数据\n",
    "\n",
    "Tensorflow是一个编程系统，使用图（graphs）来表示计算任务，图（graphs）中的节点称之为op （operation），一个op获得0个或多个Tensor，执行计算，产生0个或多个Tensor。Tensor 看作是 一个 n 维的数组或列表。图必须在会话（Session）里被启动。\n",
    "\n",
    "# 2. Tensorflow结构\n",
    "![](http://upload-images.jianshu.io/upload_images/1791718-9ea30c056280bdb4.png?imageMogr2/auto-orient/strip%7CimageView2/2/w/1240)\n",
    "\n",
    "## 2.1 创建图，启动图 "
   ]
  },
  {
   "cell_type": "code",
   "execution_count": 1,
   "metadata": {
    "collapsed": true
   },
   "outputs": [],
   "source": [
    "import tensorflow as tf"
   ]
  },
  {
   "cell_type": "code",
   "execution_count": 5,
   "metadata": {},
   "outputs": [
    {
     "name": "stdout",
     "output_type": "stream",
     "text": [
      "<bound method Tensor.get_shape of <tf.Tensor 'MatMul_2:0' shape=(1, 1) dtype=int32>>\n"
     ]
    }
   ],
   "source": [
    "# 创建一个常量op，一行两列的矩阵[[3, 3]]\n",
    "m1 = tf.constant([[3, 3]])\n",
    "\n",
    "# 创建一个常量op，两行一列的矩阵\n",
    "m2 = tf.constant([[2], [3]])\n",
    "\n",
    "# 创建一个矩阵乘法的op\n",
    "product = tf.matmul(m1, m2)\n",
    "\n",
    "# 只是定义了op，但并没有放在session中执行，所以不会输出15\n",
    "print(product)"
   ]
  },
  {
   "cell_type": "code",
   "execution_count": 9,
   "metadata": {},
   "outputs": [
    {
     "name": "stdout",
     "output_type": "stream",
     "text": [
      "[[15]]\n"
     ]
    }
   ],
   "source": [
    "# 定义一个session，启动默认的图\n",
    "sess = tf.Session()\n",
    "\n",
    "# 调用sess的run方法来执行乘法op，run(product)触发图中3个op\n",
    "result = sess.run(product)\n",
    "print(result)\n",
    "\n",
    "# 关闭会话\n",
    "sess.close()"
   ]
  },
  {
   "cell_type": "code",
   "execution_count": null,
   "metadata": {
    "collapsed": true
   },
   "outputs": [],
   "source": [
    "# 用with就不用手动关闭会话\n",
    "with tf.Session() as sess:\n",
    "    result = sess.run(product)\n",
    "    print(result)"
   ]
  },
  {
   "cell_type": "markdown",
   "metadata": {},
   "source": [
    "## 2.2 TensorFlow变量\n"
   ]
  },
  {
   "cell_type": "code",
   "execution_count": null,
   "metadata": {
    "collapsed": true
   },
   "outputs": [],
   "source": [
    "import tensorflow as tf"
   ]
  },
  {
   "cell_type": "code",
   "execution_count": 12,
   "metadata": {},
   "outputs": [
    {
     "name": "stdout",
     "output_type": "stream",
     "text": [
      "[-2 -1]\n",
      "[-1  1]\n"
     ]
    }
   ],
   "source": [
    "x = tf.Variable([1, 2])\n",
    "a = tf.constant([3, 3])\n",
    "\n",
    "# shift+tab 快捷键可以查看函数定义\n",
    "sub = tf.subtract(x, a)\n",
    "add = tf.add(x, sub)\n",
    "\n",
    "# 注意要对变量进行初始化\n",
    "init = tf.global_variables_initializer()\n",
    "\n",
    "with tf.Session() as sess:\n",
    "    sess.run(init)\n",
    "    print(sess.run(sub))\n",
    "    print(sess.run(add))"
   ]
  },
  {
   "cell_type": "code",
   "execution_count": 18,
   "metadata": {},
   "outputs": [
    {
     "name": "stdout",
     "output_type": "stream",
     "text": [
      "0\n",
      "5\n"
     ]
    }
   ],
   "source": [
    "# 创建一个变量初始化为0，给变量取名counter\n",
    "state = tf.Variable(0, name='counter')\n",
    "\n",
    "# 创建一个op，使state加1\n",
    "new_value = tf.add(state, 1)\n",
    "\n",
    "# 调用一个赋值的操作，而不能直接使用等号赋值\n",
    "update = tf.assign(state, new_value)\n",
    "\n",
    "# 使用到了Variable变量，需要初始化\n",
    "init = tf.global_variables_initializer()\n",
    "\n",
    "with tf.Session() as sess:\n",
    "    sess.run(init)\n",
    "    print(sess.run(state)) # 初始化为0，打印0\n",
    "    for _ in range(5):\n",
    "        sess.run(update)\n",
    "    print(sess.run(state))"
   ]
  },
  {
   "cell_type": "markdown",
   "metadata": {},
   "source": [
    "## 2.3 Fetch & Feed"
   ]
  },
  {
   "cell_type": "code",
   "execution_count": 20,
   "metadata": {},
   "outputs": [
    {
     "name": "stdout",
     "output_type": "stream",
     "text": [
      "[21.0, 7.0]\n"
     ]
    }
   ],
   "source": [
    "# Fetch: 同时运行多个op\n",
    "input1 = tf.constant(3.0)\n",
    "input2 = tf.constant(2.0)\n",
    "input3 = tf.constant(5.0)\n",
    "\n",
    "add = tf.add(input2, input3)\n",
    "mul = tf.multiply(input1, add)\n",
    "\n",
    "with tf.Session() as sess:\n",
    "    # 在sess中同时运行mul和add两个op\n",
    "    result = sess.run([mul, add])\n",
    "    print(result)\n",
    "    "
   ]
  },
  {
   "cell_type": "code",
   "execution_count": 21,
   "metadata": {},
   "outputs": [
    {
     "name": "stdout",
     "output_type": "stream",
     "text": [
      "14.0\n"
     ]
    }
   ],
   "source": [
    "# Feed\n",
    "# 创建占位符\n",
    "input1 = tf.placeholder(tf.float32)\n",
    "input2 = tf.placeholder(tf.float32)\n",
    "output = tf.multiply(input1, input2)\n",
    "\n",
    "with tf.Session() as sess:\n",
    "    # feed的数据以字典的形式传入\n",
    "    print(sess.run(output, feed_dict={input1: 7.0, input2: 2.0}))\n"
   ]
  },
  {
   "cell_type": "markdown",
   "metadata": {},
   "source": [
    "## 2.4 TensorFlow简单示例"
   ]
  },
  {
   "cell_type": "code",
   "execution_count": 22,
   "metadata": {
    "collapsed": true
   },
   "outputs": [],
   "source": [
    "import tensorflow as tf\n",
    "import numpy as np"
   ]
  },
  {
   "cell_type": "code",
   "execution_count": 23,
   "metadata": {},
   "outputs": [
    {
     "name": "stdout",
     "output_type": "stream",
     "text": [
      "0 [0.050500482, 0.099160887]\n",
      "20 [0.10092723, 0.19952722]\n",
      "40 [0.10056911, 0.19970989]\n",
      "60 [0.10034928, 0.19982195]\n",
      "80 [0.10021436, 0.19989073]\n",
      "100 [0.10013156, 0.19993295]\n",
      "120 [0.10008074, 0.19995885]\n",
      "140 [0.10004956, 0.19997475]\n",
      "160 [0.10003041, 0.19998451]\n",
      "180 [0.10001865, 0.1999905]\n",
      "200 [0.10001145, 0.19999416]\n"
     ]
    }
   ],
   "source": [
    "# 使用numpy生成100个随机点\n",
    "x_data = np.random.rand(100)\n",
    "# 直线：斜率0.1，截距0.2\n",
    "y_data = x_data * 0.1 + 0.2\n",
    "\n",
    "# 构造一个线性模型\n",
    "b = tf.Variable(0.)\n",
    "k = tf.Variable(0.)\n",
    "# b和k是变量，初始化为0\n",
    "y = k * x_data + b\n",
    "\n",
    "# 二次代价函数\n",
    "# reduce_mean求均值，真实值y_data减去预测值y的平方再求平均值\n",
    "loss = tf.reduce_mean(tf.square(y_data - y))\n",
    "\n",
    "# 定义一个梯度下降法来训练一个优化器\n",
    "# 学习率0.2 shift+tab查看\n",
    "optimizer = tf.train.GradientDescentOptimizer(0.2)\n",
    "\n",
    "# 最小化代价函数（训练的目的）\n",
    "train = optimizer.minimize(loss)\n",
    "\n",
    "# 用了Variable就要init\n",
    "init = tf.global_variables_initializer()\n",
    "\n",
    "with tf.Session() as sess:\n",
    "    sess.run(init)\n",
    "    # 201次迭代\n",
    "    for step in range(201):\n",
    "        sess.run(train)\n",
    "        # 每20次迭代打印一下\n",
    "        if step % 20 == 0:\n",
    "            print(step, sess.run([k, b]))"
   ]
  },
  {
   "cell_type": "code",
   "execution_count": null,
   "metadata": {
    "collapsed": true
   },
   "outputs": [],
   "source": []
  }
 ],
 "metadata": {
  "kernelspec": {
   "display_name": "Python 3",
   "language": "python",
   "name": "python3"
  },
  "language_info": {
   "codemirror_mode": {
    "name": "ipython",
    "version": 3
   },
   "file_extension": ".py",
   "mimetype": "text/x-python",
   "name": "python",
   "nbconvert_exporter": "python",
   "pygments_lexer": "ipython3",
   "version": "3.5.4"
  }
 },
 "nbformat": 4,
 "nbformat_minor": 2
}
